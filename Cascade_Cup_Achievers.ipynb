{
  "nbformat": 4,
  "nbformat_minor": 0,
  "metadata": {
    "accelerator": "GPU",
    "colab": {
      "name": "Cascade_Cup_Achievers.ipynb",
      "provenance": [],
      "collapsed_sections": [],
      "include_colab_link": true
    },
    "kernelspec": {
      "display_name": "Python 3",
      "name": "python3"
    }
  },
  "cells": [
    {
      "cell_type": "markdown",
      "metadata": {
        "id": "view-in-github",
        "colab_type": "text"
      },
      "source": [
        "<a href=\"https://colab.research.google.com/github/hrushikesh-shelar/Cascade-Cup-Data-Science-Hackathon-My-Approach-/blob/main/Cascade_Cup_Achievers.ipynb\" target=\"_parent\"><img src=\"https://colab.research.google.com/assets/colab-badge.svg\" alt=\"Open In Colab\"/></a>"
      ]
    },
    {
      "cell_type": "markdown",
      "metadata": {
        "id": "aCGk8VKw8GZ4"
      },
      "source": [
        "# Import Required Libraries"
      ]
    },
    {
      "cell_type": "code",
      "metadata": {
        "id": "7-gKQtkCNL3D"
      },
      "source": [
        "import numpy as np\n",
        "import matplotlib.pyplot as plt\n",
        "import pandas as pd\n",
        "import seaborn as sns\n",
        "\n",
        "from sklearn.model_selection import GridSearchCV\n",
        "from sklearn.preprocessing import StandardScaler\n",
        "from sklearn.decomposition import PCA\n",
        "\n",
        "from sklearn.linear_model import LogisticRegression\n",
        "from sklearn.metrics import f1_score, classification_report, make_scorer\n",
        "from sklearn.ensemble import RandomForestClassifier, GradientBoostingClassifier\n",
        "\n",
        "from sklearn.model_selection import train_test_split as tts\n",
        "\n",
        "from xgboost import XGBClassifier"
      ],
      "execution_count": null,
      "outputs": []
    },
    {
      "cell_type": "markdown",
      "metadata": {
        "id": "PWVtCrGdP5Ta"
      },
      "source": [
        "###Import Dataset & Pre-process\n",
        "\n",
        "\n",
        "\n"
      ]
    },
    {
      "cell_type": "code",
      "metadata": {
        "colab": {
          "base_uri": "https://localhost:8080/",
          "height": 232
        },
        "id": "UiuUZmBCOLVE",
        "outputId": "419a56dd-7e93-4c7f-818b-aaec0b1ba611"
      },
      "source": [
        "# Import Dataset\n",
        "\n",
        "df= pd.read_csv('https://raw.githubusercontent.com/i-am-hrushi/datasets/master/cascade_cup_train.csv')\n",
        "df.head()"
      ],
      "execution_count": null,
      "outputs": [
        {
          "output_type": "execute_result",
          "data": {
            "text/html": [
              "<div>\n",
              "<style scoped>\n",
              "    .dataframe tbody tr th:only-of-type {\n",
              "        vertical-align: middle;\n",
              "    }\n",
              "\n",
              "    .dataframe tbody tr th {\n",
              "        vertical-align: top;\n",
              "    }\n",
              "\n",
              "    .dataframe thead th {\n",
              "        text-align: right;\n",
              "    }\n",
              "</style>\n",
              "<table border=\"1\" class=\"dataframe\">\n",
              "  <thead>\n",
              "    <tr style=\"text-align: right;\">\n",
              "      <th></th>\n",
              "      <th>Unnamed: 0</th>\n",
              "      <th>userId</th>\n",
              "      <th>tier</th>\n",
              "      <th>gender</th>\n",
              "      <th>following_rate</th>\n",
              "      <th>followers_avg_age</th>\n",
              "      <th>following_avg_age</th>\n",
              "      <th>max_repetitive_punc</th>\n",
              "      <th>num_of_hashtags_per_action</th>\n",
              "      <th>emoji_count_per_action</th>\n",
              "      <th>punctuations_per_action</th>\n",
              "      <th>number_of_words_per_action</th>\n",
              "      <th>avgCompletion</th>\n",
              "      <th>avgTimeSpent</th>\n",
              "      <th>avgDuration</th>\n",
              "      <th>avgComments</th>\n",
              "      <th>creations</th>\n",
              "      <th>content_views</th>\n",
              "      <th>num_of_comments</th>\n",
              "      <th>weekends_trails_watched_per_day</th>\n",
              "      <th>weekdays_trails_watched_per_day</th>\n",
              "      <th>slot1_trails_watched_per_day</th>\n",
              "      <th>slot2_trails_watched_per_day</th>\n",
              "      <th>slot3_trails_watched_per_day</th>\n",
              "      <th>slot4_trails_watched_per_day</th>\n",
              "      <th>avgt2</th>\n",
              "      <th>age_group</th>\n",
              "    </tr>\n",
              "  </thead>\n",
              "  <tbody>\n",
              "    <tr>\n",
              "      <th>0</th>\n",
              "      <td>265153</td>\n",
              "      <td>48958844</td>\n",
              "      <td>2</td>\n",
              "      <td>1</td>\n",
              "      <td>0.0</td>\n",
              "      <td>0.0</td>\n",
              "      <td>0.0</td>\n",
              "      <td>0</td>\n",
              "      <td>0.0</td>\n",
              "      <td>0.0</td>\n",
              "      <td>0.000000</td>\n",
              "      <td>0.000000</td>\n",
              "      <td>0.463330</td>\n",
              "      <td>34.160000</td>\n",
              "      <td>53.996091</td>\n",
              "      <td>0</td>\n",
              "      <td>0.000000</td>\n",
              "      <td>0.200000</td>\n",
              "      <td>0.0</td>\n",
              "      <td>0.041667</td>\n",
              "      <td>0.025000</td>\n",
              "      <td>0.0</td>\n",
              "      <td>0.000000</td>\n",
              "      <td>0.175000</td>\n",
              "      <td>0.033333</td>\n",
              "      <td>0.0</td>\n",
              "      <td>1</td>\n",
              "    </tr>\n",
              "    <tr>\n",
              "      <th>1</th>\n",
              "      <td>405231</td>\n",
              "      <td>51100441</td>\n",
              "      <td>2</td>\n",
              "      <td>2</td>\n",
              "      <td>0.0</td>\n",
              "      <td>0.0</td>\n",
              "      <td>0.0</td>\n",
              "      <td>0</td>\n",
              "      <td>0.0</td>\n",
              "      <td>0.0</td>\n",
              "      <td>0.076923</td>\n",
              "      <td>0.153846</td>\n",
              "      <td>0.429468</td>\n",
              "      <td>15.285714</td>\n",
              "      <td>96.231625</td>\n",
              "      <td>0</td>\n",
              "      <td>0.008475</td>\n",
              "      <td>0.093220</td>\n",
              "      <td>0.0</td>\n",
              "      <td>0.012712</td>\n",
              "      <td>0.018644</td>\n",
              "      <td>0.0</td>\n",
              "      <td>0.084746</td>\n",
              "      <td>0.000000</td>\n",
              "      <td>0.033898</td>\n",
              "      <td>82.5</td>\n",
              "      <td>2</td>\n",
              "    </tr>\n",
              "    <tr>\n",
              "      <th>2</th>\n",
              "      <td>57867</td>\n",
              "      <td>6887426</td>\n",
              "      <td>2</td>\n",
              "      <td>1</td>\n",
              "      <td>0.0</td>\n",
              "      <td>0.0</td>\n",
              "      <td>0.0</td>\n",
              "      <td>0</td>\n",
              "      <td>0.0</td>\n",
              "      <td>0.0</td>\n",
              "      <td>0.000000</td>\n",
              "      <td>0.000000</td>\n",
              "      <td>0.341657</td>\n",
              "      <td>22.000000</td>\n",
              "      <td>83.051415</td>\n",
              "      <td>0</td>\n",
              "      <td>0.000000</td>\n",
              "      <td>0.002786</td>\n",
              "      <td>0.0</td>\n",
              "      <td>0.000000</td>\n",
              "      <td>0.000557</td>\n",
              "      <td>0.0</td>\n",
              "      <td>0.002786</td>\n",
              "      <td>0.000000</td>\n",
              "      <td>0.000000</td>\n",
              "      <td>0.0</td>\n",
              "      <td>1</td>\n",
              "    </tr>\n",
              "    <tr>\n",
              "      <th>3</th>\n",
              "      <td>272618</td>\n",
              "      <td>50742404</td>\n",
              "      <td>2</td>\n",
              "      <td>1</td>\n",
              "      <td>0.0</td>\n",
              "      <td>0.0</td>\n",
              "      <td>0.0</td>\n",
              "      <td>0</td>\n",
              "      <td>0.0</td>\n",
              "      <td>0.0</td>\n",
              "      <td>0.000000</td>\n",
              "      <td>0.000000</td>\n",
              "      <td>0.005735</td>\n",
              "      <td>3.000000</td>\n",
              "      <td>523.080000</td>\n",
              "      <td>0</td>\n",
              "      <td>0.000000</td>\n",
              "      <td>0.008403</td>\n",
              "      <td>0.0</td>\n",
              "      <td>0.000000</td>\n",
              "      <td>0.001681</td>\n",
              "      <td>0.0</td>\n",
              "      <td>0.000000</td>\n",
              "      <td>0.000000</td>\n",
              "      <td>0.008403</td>\n",
              "      <td>0.0</td>\n",
              "      <td>1</td>\n",
              "    </tr>\n",
              "    <tr>\n",
              "      <th>4</th>\n",
              "      <td>251123</td>\n",
              "      <td>45589200</td>\n",
              "      <td>2</td>\n",
              "      <td>2</td>\n",
              "      <td>0.0</td>\n",
              "      <td>0.0</td>\n",
              "      <td>0.0</td>\n",
              "      <td>0</td>\n",
              "      <td>0.0</td>\n",
              "      <td>0.0</td>\n",
              "      <td>0.000000</td>\n",
              "      <td>0.000000</td>\n",
              "      <td>0.456549</td>\n",
              "      <td>12.333333</td>\n",
              "      <td>53.766640</td>\n",
              "      <td>0</td>\n",
              "      <td>0.000000</td>\n",
              "      <td>0.204918</td>\n",
              "      <td>0.0</td>\n",
              "      <td>0.000000</td>\n",
              "      <td>0.049180</td>\n",
              "      <td>0.0</td>\n",
              "      <td>0.008197</td>\n",
              "      <td>0.057377</td>\n",
              "      <td>0.180328</td>\n",
              "      <td>0.0</td>\n",
              "      <td>1</td>\n",
              "    </tr>\n",
              "  </tbody>\n",
              "</table>\n",
              "</div>"
            ],
            "text/plain": [
              "   Unnamed: 0    userId  tier  ...  slot4_trails_watched_per_day  avgt2  age_group\n",
              "0      265153  48958844     2  ...                      0.033333    0.0          1\n",
              "1      405231  51100441     2  ...                      0.033898   82.5          2\n",
              "2       57867   6887426     2  ...                      0.000000    0.0          1\n",
              "3      272618  50742404     2  ...                      0.008403    0.0          1\n",
              "4      251123  45589200     2  ...                      0.180328    0.0          1\n",
              "\n",
              "[5 rows x 27 columns]"
            ]
          },
          "metadata": {
            "tags": []
          },
          "execution_count": 2
        }
      ]
    },
    {
      "cell_type": "code",
      "metadata": {
        "colab": {
          "base_uri": "https://localhost:8080/"
        },
        "id": "lJuCxRv6_kMf",
        "outputId": "166233f2-81a0-4c12-f177-60d8d8242bf0"
      },
      "source": [
        "df.shape"
      ],
      "execution_count": null,
      "outputs": [
        {
          "output_type": "execute_result",
          "data": {
            "text/plain": [
              "(488877, 27)"
            ]
          },
          "metadata": {
            "tags": []
          },
          "execution_count": 3
        }
      ]
    },
    {
      "cell_type": "code",
      "metadata": {
        "colab": {
          "base_uri": "https://localhost:8080/",
          "height": 232
        },
        "id": "LjJ0wjs23_RA",
        "outputId": "86ed29bc-aa97-42ed-ea92-6657e87f9ca0"
      },
      "source": [
        "test_df = pd.read_csv('https://raw.githubusercontent.com/i-am-hrushi/datasets/master/cascade_cup_test.csv')\n",
        "test_df.head()"
      ],
      "execution_count": null,
      "outputs": [
        {
          "output_type": "execute_result",
          "data": {
            "text/html": [
              "<div>\n",
              "<style scoped>\n",
              "    .dataframe tbody tr th:only-of-type {\n",
              "        vertical-align: middle;\n",
              "    }\n",
              "\n",
              "    .dataframe tbody tr th {\n",
              "        vertical-align: top;\n",
              "    }\n",
              "\n",
              "    .dataframe thead th {\n",
              "        text-align: right;\n",
              "    }\n",
              "</style>\n",
              "<table border=\"1\" class=\"dataframe\">\n",
              "  <thead>\n",
              "    <tr style=\"text-align: right;\">\n",
              "      <th></th>\n",
              "      <th>Unnamed: 0</th>\n",
              "      <th>userId</th>\n",
              "      <th>tier</th>\n",
              "      <th>gender</th>\n",
              "      <th>following_rate</th>\n",
              "      <th>followers_avg_age</th>\n",
              "      <th>following_avg_age</th>\n",
              "      <th>max_repetitive_punc</th>\n",
              "      <th>num_of_hashtags_per_action</th>\n",
              "      <th>emoji_count_per_action</th>\n",
              "      <th>punctuations_per_action</th>\n",
              "      <th>number_of_words_per_action</th>\n",
              "      <th>avgCompletion</th>\n",
              "      <th>avgTimeSpent</th>\n",
              "      <th>avgDuration</th>\n",
              "      <th>avgComments</th>\n",
              "      <th>creations</th>\n",
              "      <th>content_views</th>\n",
              "      <th>num_of_comments</th>\n",
              "      <th>weekends_trails_watched_per_day</th>\n",
              "      <th>weekdays_trails_watched_per_day</th>\n",
              "      <th>slot1_trails_watched_per_day</th>\n",
              "      <th>slot2_trails_watched_per_day</th>\n",
              "      <th>slot3_trails_watched_per_day</th>\n",
              "      <th>slot4_trails_watched_per_day</th>\n",
              "      <th>avgt2</th>\n",
              "    </tr>\n",
              "  </thead>\n",
              "  <tbody>\n",
              "    <tr>\n",
              "      <th>0</th>\n",
              "      <td>62683</td>\n",
              "      <td>33840667</td>\n",
              "      <td>2</td>\n",
              "      <td>1</td>\n",
              "      <td>0.000000</td>\n",
              "      <td>0.0</td>\n",
              "      <td>0.0</td>\n",
              "      <td>0</td>\n",
              "      <td>0.0</td>\n",
              "      <td>0.0</td>\n",
              "      <td>0.0</td>\n",
              "      <td>0.000000</td>\n",
              "      <td>0.033242</td>\n",
              "      <td>4.500000</td>\n",
              "      <td>120.313571</td>\n",
              "      <td>0</td>\n",
              "      <td>0.000000</td>\n",
              "      <td>0.062992</td>\n",
              "      <td>0.0</td>\n",
              "      <td>0.000000</td>\n",
              "      <td>0.012598</td>\n",
              "      <td>0.000000</td>\n",
              "      <td>0.000000</td>\n",
              "      <td>0.062992</td>\n",
              "      <td>0.000000</td>\n",
              "      <td>0.0</td>\n",
              "    </tr>\n",
              "    <tr>\n",
              "      <th>1</th>\n",
              "      <td>173104</td>\n",
              "      <td>1828421</td>\n",
              "      <td>2</td>\n",
              "      <td>1</td>\n",
              "      <td>0.001818</td>\n",
              "      <td>0.0</td>\n",
              "      <td>0.0</td>\n",
              "      <td>0</td>\n",
              "      <td>0.0</td>\n",
              "      <td>0.0</td>\n",
              "      <td>0.0</td>\n",
              "      <td>0.000000</td>\n",
              "      <td>0.051057</td>\n",
              "      <td>9.500000</td>\n",
              "      <td>188.615500</td>\n",
              "      <td>0</td>\n",
              "      <td>0.000000</td>\n",
              "      <td>0.003636</td>\n",
              "      <td>0.0</td>\n",
              "      <td>0.000000</td>\n",
              "      <td>0.000727</td>\n",
              "      <td>0.000000</td>\n",
              "      <td>0.000000</td>\n",
              "      <td>0.003636</td>\n",
              "      <td>0.000000</td>\n",
              "      <td>0.0</td>\n",
              "    </tr>\n",
              "    <tr>\n",
              "      <th>2</th>\n",
              "      <td>306061</td>\n",
              "      <td>57353310</td>\n",
              "      <td>2</td>\n",
              "      <td>1</td>\n",
              "      <td>0.000000</td>\n",
              "      <td>0.0</td>\n",
              "      <td>0.0</td>\n",
              "      <td>0</td>\n",
              "      <td>0.0</td>\n",
              "      <td>0.0</td>\n",
              "      <td>0.0</td>\n",
              "      <td>0.000000</td>\n",
              "      <td>0.190984</td>\n",
              "      <td>4.675676</td>\n",
              "      <td>86.572800</td>\n",
              "      <td>0</td>\n",
              "      <td>0.000000</td>\n",
              "      <td>1.028571</td>\n",
              "      <td>0.0</td>\n",
              "      <td>0.000000</td>\n",
              "      <td>0.211429</td>\n",
              "      <td>0.000000</td>\n",
              "      <td>0.000000</td>\n",
              "      <td>0.742857</td>\n",
              "      <td>0.314286</td>\n",
              "      <td>0.0</td>\n",
              "    </tr>\n",
              "    <tr>\n",
              "      <th>3</th>\n",
              "      <td>422061</td>\n",
              "      <td>36618563</td>\n",
              "      <td>2</td>\n",
              "      <td>2</td>\n",
              "      <td>0.000000</td>\n",
              "      <td>0.0</td>\n",
              "      <td>0.0</td>\n",
              "      <td>4</td>\n",
              "      <td>0.0</td>\n",
              "      <td>0.0</td>\n",
              "      <td>0.0</td>\n",
              "      <td>0.130435</td>\n",
              "      <td>0.460543</td>\n",
              "      <td>21.142857</td>\n",
              "      <td>44.439050</td>\n",
              "      <td>0</td>\n",
              "      <td>0.007937</td>\n",
              "      <td>0.166667</td>\n",
              "      <td>0.0</td>\n",
              "      <td>0.067460</td>\n",
              "      <td>0.006349</td>\n",
              "      <td>0.000000</td>\n",
              "      <td>0.111111</td>\n",
              "      <td>0.023810</td>\n",
              "      <td>0.031746</td>\n",
              "      <td>201.0</td>\n",
              "    </tr>\n",
              "    <tr>\n",
              "      <th>4</th>\n",
              "      <td>219653</td>\n",
              "      <td>39484434</td>\n",
              "      <td>2</td>\n",
              "      <td>1</td>\n",
              "      <td>0.000000</td>\n",
              "      <td>0.0</td>\n",
              "      <td>0.0</td>\n",
              "      <td>0</td>\n",
              "      <td>0.0</td>\n",
              "      <td>0.0</td>\n",
              "      <td>0.0</td>\n",
              "      <td>0.000000</td>\n",
              "      <td>0.205251</td>\n",
              "      <td>2.689655</td>\n",
              "      <td>29.136643</td>\n",
              "      <td>0</td>\n",
              "      <td>0.000000</td>\n",
              "      <td>0.233871</td>\n",
              "      <td>0.0</td>\n",
              "      <td>0.116935</td>\n",
              "      <td>0.000000</td>\n",
              "      <td>0.233871</td>\n",
              "      <td>0.000000</td>\n",
              "      <td>0.000000</td>\n",
              "      <td>0.000000</td>\n",
              "      <td>0.0</td>\n",
              "    </tr>\n",
              "  </tbody>\n",
              "</table>\n",
              "</div>"
            ],
            "text/plain": [
              "   Unnamed: 0    userId  ...  slot4_trails_watched_per_day  avgt2\n",
              "0       62683  33840667  ...                      0.000000    0.0\n",
              "1      173104   1828421  ...                      0.000000    0.0\n",
              "2      306061  57353310  ...                      0.314286    0.0\n",
              "3      422061  36618563  ...                      0.031746  201.0\n",
              "4      219653  39484434  ...                      0.000000    0.0\n",
              "\n",
              "[5 rows x 26 columns]"
            ]
          },
          "metadata": {
            "tags": []
          },
          "execution_count": 4
        }
      ]
    },
    {
      "cell_type": "code",
      "metadata": {
        "colab": {
          "base_uri": "https://localhost:8080/",
          "height": 304
        },
        "id": "aTFj2IKCs4NO",
        "outputId": "215fddd7-5266-44fd-ffb1-3d03254609bf"
      },
      "source": [
        "df.describe()"
      ],
      "execution_count": null,
      "outputs": [
        {
          "output_type": "execute_result",
          "data": {
            "text/html": [
              "<div>\n",
              "<style scoped>\n",
              "    .dataframe tbody tr th:only-of-type {\n",
              "        vertical-align: middle;\n",
              "    }\n",
              "\n",
              "    .dataframe tbody tr th {\n",
              "        vertical-align: top;\n",
              "    }\n",
              "\n",
              "    .dataframe thead th {\n",
              "        text-align: right;\n",
              "    }\n",
              "</style>\n",
              "<table border=\"1\" class=\"dataframe\">\n",
              "  <thead>\n",
              "    <tr style=\"text-align: right;\">\n",
              "      <th></th>\n",
              "      <th>Unnamed: 0</th>\n",
              "      <th>userId</th>\n",
              "      <th>tier</th>\n",
              "      <th>gender</th>\n",
              "      <th>following_rate</th>\n",
              "      <th>followers_avg_age</th>\n",
              "      <th>following_avg_age</th>\n",
              "      <th>max_repetitive_punc</th>\n",
              "      <th>num_of_hashtags_per_action</th>\n",
              "      <th>emoji_count_per_action</th>\n",
              "      <th>punctuations_per_action</th>\n",
              "      <th>number_of_words_per_action</th>\n",
              "      <th>avgCompletion</th>\n",
              "      <th>avgTimeSpent</th>\n",
              "      <th>avgDuration</th>\n",
              "      <th>avgComments</th>\n",
              "      <th>creations</th>\n",
              "      <th>content_views</th>\n",
              "      <th>num_of_comments</th>\n",
              "      <th>weekends_trails_watched_per_day</th>\n",
              "      <th>weekdays_trails_watched_per_day</th>\n",
              "      <th>slot1_trails_watched_per_day</th>\n",
              "      <th>slot2_trails_watched_per_day</th>\n",
              "      <th>slot3_trails_watched_per_day</th>\n",
              "      <th>slot4_trails_watched_per_day</th>\n",
              "      <th>avgt2</th>\n",
              "      <th>age_group</th>\n",
              "    </tr>\n",
              "  </thead>\n",
              "  <tbody>\n",
              "    <tr>\n",
              "      <th>count</th>\n",
              "      <td>488877.000000</td>\n",
              "      <td>4.888770e+05</td>\n",
              "      <td>488877.000000</td>\n",
              "      <td>488877.000000</td>\n",
              "      <td>488877.000000</td>\n",
              "      <td>488877.000000</td>\n",
              "      <td>488877.000000</td>\n",
              "      <td>488877.000000</td>\n",
              "      <td>488877.000000</td>\n",
              "      <td>488877.000000</td>\n",
              "      <td>488877.000000</td>\n",
              "      <td>488877.000000</td>\n",
              "      <td>488877.000000</td>\n",
              "      <td>4.888770e+05</td>\n",
              "      <td>488877.000000</td>\n",
              "      <td>488877.000000</td>\n",
              "      <td>488877.000000</td>\n",
              "      <td>488877.000000</td>\n",
              "      <td>488877.000000</td>\n",
              "      <td>488877.000000</td>\n",
              "      <td>488877.000000</td>\n",
              "      <td>488877.000000</td>\n",
              "      <td>488877.000000</td>\n",
              "      <td>488877.000000</td>\n",
              "      <td>488877.000000</td>\n",
              "      <td>488877.000000</td>\n",
              "      <td>488877.000000</td>\n",
              "    </tr>\n",
              "    <tr>\n",
              "      <th>mean</th>\n",
              "      <td>271605.981815</td>\n",
              "      <td>4.236096e+07</td>\n",
              "      <td>1.975382</td>\n",
              "      <td>1.213037</td>\n",
              "      <td>0.082233</td>\n",
              "      <td>0.347520</td>\n",
              "      <td>0.403049</td>\n",
              "      <td>0.739748</td>\n",
              "      <td>0.000277</td>\n",
              "      <td>0.000981</td>\n",
              "      <td>0.012805</td>\n",
              "      <td>0.179148</td>\n",
              "      <td>0.341582</td>\n",
              "      <td>1.087395e+02</td>\n",
              "      <td>83.104654</td>\n",
              "      <td>0.320923</td>\n",
              "      <td>0.017065</td>\n",
              "      <td>0.391013</td>\n",
              "      <td>0.002009</td>\n",
              "      <td>0.074353</td>\n",
              "      <td>0.066927</td>\n",
              "      <td>0.032855</td>\n",
              "      <td>0.141705</td>\n",
              "      <td>0.150401</td>\n",
              "      <td>0.158382</td>\n",
              "      <td>164.765782</td>\n",
              "      <td>1.741643</td>\n",
              "    </tr>\n",
              "    <tr>\n",
              "      <th>std</th>\n",
              "      <td>156808.138002</td>\n",
              "      <td>1.821664e+07</td>\n",
              "      <td>0.430707</td>\n",
              "      <td>0.409454</td>\n",
              "      <td>2.467781</td>\n",
              "      <td>0.816334</td>\n",
              "      <td>0.925291</td>\n",
              "      <td>3.075954</td>\n",
              "      <td>0.012221</td>\n",
              "      <td>0.020381</td>\n",
              "      <td>0.159553</td>\n",
              "      <td>0.647588</td>\n",
              "      <td>0.195441</td>\n",
              "      <td>5.537516e+04</td>\n",
              "      <td>76.779586</td>\n",
              "      <td>7.649827</td>\n",
              "      <td>0.180402</td>\n",
              "      <td>0.905303</td>\n",
              "      <td>0.030561</td>\n",
              "      <td>0.211094</td>\n",
              "      <td>0.174791</td>\n",
              "      <td>0.193962</td>\n",
              "      <td>0.402612</td>\n",
              "      <td>0.451999</td>\n",
              "      <td>0.502065</td>\n",
              "      <td>981.988886</td>\n",
              "      <td>1.088559</td>\n",
              "    </tr>\n",
              "    <tr>\n",
              "      <th>min</th>\n",
              "      <td>0.000000</td>\n",
              "      <td>2.700000e+01</td>\n",
              "      <td>1.000000</td>\n",
              "      <td>1.000000</td>\n",
              "      <td>0.000000</td>\n",
              "      <td>0.000000</td>\n",
              "      <td>0.000000</td>\n",
              "      <td>0.000000</td>\n",
              "      <td>0.000000</td>\n",
              "      <td>0.000000</td>\n",
              "      <td>0.000000</td>\n",
              "      <td>0.000000</td>\n",
              "      <td>0.000653</td>\n",
              "      <td>1.000000e+00</td>\n",
              "      <td>0.233000</td>\n",
              "      <td>0.000000</td>\n",
              "      <td>0.000000</td>\n",
              "      <td>0.000887</td>\n",
              "      <td>0.000000</td>\n",
              "      <td>0.000000</td>\n",
              "      <td>0.000000</td>\n",
              "      <td>0.000000</td>\n",
              "      <td>0.000000</td>\n",
              "      <td>0.000000</td>\n",
              "      <td>0.000000</td>\n",
              "      <td>0.000000</td>\n",
              "      <td>1.000000</td>\n",
              "    </tr>\n",
              "    <tr>\n",
              "      <th>25%</th>\n",
              "      <td>135779.000000</td>\n",
              "      <td>3.537599e+07</td>\n",
              "      <td>2.000000</td>\n",
              "      <td>1.000000</td>\n",
              "      <td>0.000000</td>\n",
              "      <td>0.000000</td>\n",
              "      <td>0.000000</td>\n",
              "      <td>0.000000</td>\n",
              "      <td>0.000000</td>\n",
              "      <td>0.000000</td>\n",
              "      <td>0.000000</td>\n",
              "      <td>0.000000</td>\n",
              "      <td>0.199675</td>\n",
              "      <td>5.655172e+00</td>\n",
              "      <td>30.724000</td>\n",
              "      <td>0.000000</td>\n",
              "      <td>0.000000</td>\n",
              "      <td>0.040650</td>\n",
              "      <td>0.000000</td>\n",
              "      <td>0.000000</td>\n",
              "      <td>0.002265</td>\n",
              "      <td>0.000000</td>\n",
              "      <td>0.000000</td>\n",
              "      <td>0.000000</td>\n",
              "      <td>0.000000</td>\n",
              "      <td>0.000000</td>\n",
              "      <td>1.000000</td>\n",
              "    </tr>\n",
              "    <tr>\n",
              "      <th>50%</th>\n",
              "      <td>271560.000000</td>\n",
              "      <td>4.336270e+07</td>\n",
              "      <td>2.000000</td>\n",
              "      <td>1.000000</td>\n",
              "      <td>0.000000</td>\n",
              "      <td>0.000000</td>\n",
              "      <td>0.000000</td>\n",
              "      <td>0.000000</td>\n",
              "      <td>0.000000</td>\n",
              "      <td>0.000000</td>\n",
              "      <td>0.000000</td>\n",
              "      <td>0.000000</td>\n",
              "      <td>0.329743</td>\n",
              "      <td>8.500000e+00</td>\n",
              "      <td>62.501164</td>\n",
              "      <td>0.000000</td>\n",
              "      <td>0.000000</td>\n",
              "      <td>0.124031</td>\n",
              "      <td>0.000000</td>\n",
              "      <td>0.003968</td>\n",
              "      <td>0.015873</td>\n",
              "      <td>0.000000</td>\n",
              "      <td>0.011834</td>\n",
              "      <td>0.014563</td>\n",
              "      <td>0.015873</td>\n",
              "      <td>0.000000</td>\n",
              "      <td>1.000000</td>\n",
              "    </tr>\n",
              "    <tr>\n",
              "      <th>75%</th>\n",
              "      <td>407431.000000</td>\n",
              "      <td>5.370523e+07</td>\n",
              "      <td>2.000000</td>\n",
              "      <td>1.000000</td>\n",
              "      <td>0.008621</td>\n",
              "      <td>0.000000</td>\n",
              "      <td>0.000000</td>\n",
              "      <td>0.000000</td>\n",
              "      <td>0.000000</td>\n",
              "      <td>0.000000</td>\n",
              "      <td>0.000000</td>\n",
              "      <td>0.150183</td>\n",
              "      <td>0.460492</td>\n",
              "      <td>1.308654e+01</td>\n",
              "      <td>112.246500</td>\n",
              "      <td>0.000000</td>\n",
              "      <td>0.009091</td>\n",
              "      <td>0.364486</td>\n",
              "      <td>0.000000</td>\n",
              "      <td>0.060000</td>\n",
              "      <td>0.059016</td>\n",
              "      <td>0.000000</td>\n",
              "      <td>0.117188</td>\n",
              "      <td>0.118644</td>\n",
              "      <td>0.122396</td>\n",
              "      <td>178.666667</td>\n",
              "      <td>2.000000</td>\n",
              "    </tr>\n",
              "    <tr>\n",
              "      <th>max</th>\n",
              "      <td>543196.000000</td>\n",
              "      <td>7.904203e+07</td>\n",
              "      <td>3.000000</td>\n",
              "      <td>2.000000</td>\n",
              "      <td>895.304000</td>\n",
              "      <td>4.000000</td>\n",
              "      <td>4.000000</td>\n",
              "      <td>624.000000</td>\n",
              "      <td>2.333333</td>\n",
              "      <td>3.000000</td>\n",
              "      <td>27.333333</td>\n",
              "      <td>262.666667</td>\n",
              "      <td>1.000000</td>\n",
              "      <td>3.826604e+07</td>\n",
              "      <td>7541.026000</td>\n",
              "      <td>3228.000000</td>\n",
              "      <td>63.388889</td>\n",
              "      <td>75.662281</td>\n",
              "      <td>8.196850</td>\n",
              "      <td>17.201754</td>\n",
              "      <td>18.756140</td>\n",
              "      <td>19.612903</td>\n",
              "      <td>27.905983</td>\n",
              "      <td>45.083333</td>\n",
              "      <td>55.153846</td>\n",
              "      <td>39304.000000</td>\n",
              "      <td>4.000000</td>\n",
              "    </tr>\n",
              "  </tbody>\n",
              "</table>\n",
              "</div>"
            ],
            "text/plain": [
              "          Unnamed: 0        userId  ...          avgt2      age_group\n",
              "count  488877.000000  4.888770e+05  ...  488877.000000  488877.000000\n",
              "mean   271605.981815  4.236096e+07  ...     164.765782       1.741643\n",
              "std    156808.138002  1.821664e+07  ...     981.988886       1.088559\n",
              "min         0.000000  2.700000e+01  ...       0.000000       1.000000\n",
              "25%    135779.000000  3.537599e+07  ...       0.000000       1.000000\n",
              "50%    271560.000000  4.336270e+07  ...       0.000000       1.000000\n",
              "75%    407431.000000  5.370523e+07  ...     178.666667       2.000000\n",
              "max    543196.000000  7.904203e+07  ...   39304.000000       4.000000\n",
              "\n",
              "[8 rows x 27 columns]"
            ]
          },
          "metadata": {
            "tags": []
          },
          "execution_count": 5
        }
      ]
    },
    {
      "cell_type": "code",
      "metadata": {
        "colab": {
          "base_uri": "https://localhost:8080/"
        },
        "id": "hTJ0J2VeuH3p",
        "outputId": "8a2b5ca6-f3da-447a-d71a-c63de933a538"
      },
      "source": [
        "# Target Variable distribution\n",
        "\n",
        "df.age_group.value_counts()"
      ],
      "execution_count": null,
      "outputs": [
        {
          "output_type": "execute_result",
          "data": {
            "text/plain": [
              "1    308315\n",
              "4     60803\n",
              "3     60404\n",
              "2     59355\n",
              "Name: age_group, dtype: int64"
            ]
          },
          "metadata": {
            "tags": []
          },
          "execution_count": 6
        }
      ]
    },
    {
      "cell_type": "code",
      "metadata": {
        "id": "nSAK4Ao1vcAD"
      },
      "source": [
        "# Under-sampling\n",
        "df_1 = df[df['age_group']==1]\n",
        "df_0 = df[df['age_group']!=1]\n",
        "\n",
        "df_1_under = df_1.sample(60000)\n",
        "df = pd.concat([df_1_under, df_0], axis = 0)"
      ],
      "execution_count": null,
      "outputs": []
    },
    {
      "cell_type": "code",
      "metadata": {
        "colab": {
          "base_uri": "https://localhost:8080/"
        },
        "id": "vewCETXr7D3h",
        "outputId": "3455e0af-39b4-4d2a-f4c1-d656dfe95385"
      },
      "source": [
        "# Target Variable distribution after undersapmling\n",
        "df.age_group.value_counts()"
      ],
      "execution_count": null,
      "outputs": [
        {
          "output_type": "execute_result",
          "data": {
            "text/plain": [
              "4    60803\n",
              "3    60404\n",
              "1    60000\n",
              "2    59355\n",
              "Name: age_group, dtype: int64"
            ]
          },
          "metadata": {
            "tags": []
          },
          "execution_count": 8
        }
      ]
    },
    {
      "cell_type": "code",
      "metadata": {
        "colab": {
          "base_uri": "https://localhost:8080/"
        },
        "id": "oIaT0n0itdRA",
        "outputId": "3ff626b8-5fd2-4b77-d038-31142fa849b7"
      },
      "source": [
        "# Check for Null values\n",
        "df.isnull().sum()"
      ],
      "execution_count": null,
      "outputs": [
        {
          "output_type": "execute_result",
          "data": {
            "text/plain": [
              "Unnamed: 0                         0\n",
              "userId                             0\n",
              "tier                               0\n",
              "gender                             0\n",
              "following_rate                     0\n",
              "followers_avg_age                  0\n",
              "following_avg_age                  0\n",
              "max_repetitive_punc                0\n",
              "num_of_hashtags_per_action         0\n",
              "emoji_count_per_action             0\n",
              "punctuations_per_action            0\n",
              "number_of_words_per_action         0\n",
              "avgCompletion                      0\n",
              "avgTimeSpent                       0\n",
              "avgDuration                        0\n",
              "avgComments                        0\n",
              "creations                          0\n",
              "content_views                      0\n",
              "num_of_comments                    0\n",
              "weekends_trails_watched_per_day    0\n",
              "weekdays_trails_watched_per_day    0\n",
              "slot1_trails_watched_per_day       0\n",
              "slot2_trails_watched_per_day       0\n",
              "slot3_trails_watched_per_day       0\n",
              "slot4_trails_watched_per_day       0\n",
              "avgt2                              0\n",
              "age_group                          0\n",
              "dtype: int64"
            ]
          },
          "metadata": {
            "tags": []
          },
          "execution_count": 9
        }
      ]
    },
    {
      "cell_type": "code",
      "metadata": {
        "colab": {
          "base_uri": "https://localhost:8080/"
        },
        "id": "i0gbIbkzwojI",
        "outputId": "7759a9ce-c76f-4a5c-b110-2eaa8f008128"
      },
      "source": [
        "# Unique values for each column\n",
        "for  i in df.columns:\n",
        "    print(i,\":\\t\\t\\t\\t\\t\", len(pd.unique(df[i])) )"
      ],
      "execution_count": null,
      "outputs": [
        {
          "output_type": "stream",
          "text": [
            "Unnamed: 0 :\t\t\t\t\t 240562\n",
            "userId :\t\t\t\t\t 240562\n",
            "tier :\t\t\t\t\t 3\n",
            "gender :\t\t\t\t\t 2\n",
            "following_rate :\t\t\t\t\t 13916\n",
            "followers_avg_age :\t\t\t\t\t 3085\n",
            "following_avg_age :\t\t\t\t\t 3224\n",
            "max_repetitive_punc :\t\t\t\t\t 86\n",
            "num_of_hashtags_per_action :\t\t\t\t\t 387\n",
            "emoji_count_per_action :\t\t\t\t\t 676\n",
            "punctuations_per_action :\t\t\t\t\t 2890\n",
            "number_of_words_per_action :\t\t\t\t\t 15555\n",
            "avgCompletion :\t\t\t\t\t 232948\n",
            "avgTimeSpent :\t\t\t\t\t 73684\n",
            "avgDuration :\t\t\t\t\t 222462\n",
            "avgComments :\t\t\t\t\t 181\n",
            "creations :\t\t\t\t\t 9522\n",
            "content_views :\t\t\t\t\t 27239\n",
            "num_of_comments :\t\t\t\t\t 3717\n",
            "weekends_trails_watched_per_day :\t\t\t\t\t 17551\n",
            "weekdays_trails_watched_per_day :\t\t\t\t\t 26681\n",
            "slot1_trails_watched_per_day :\t\t\t\t\t 10348\n",
            "slot2_trails_watched_per_day :\t\t\t\t\t 17115\n",
            "slot3_trails_watched_per_day :\t\t\t\t\t 18588\n",
            "slot4_trails_watched_per_day :\t\t\t\t\t 19136\n",
            "avgt2 :\t\t\t\t\t 53491\n",
            "age_group :\t\t\t\t\t 4\n"
          ],
          "name": "stdout"
        }
      ]
    },
    {
      "cell_type": "markdown",
      "metadata": {
        "id": "vZEVGD7Ny_Ds"
      },
      "source": [
        "###Values Counts"
      ]
    },
    {
      "cell_type": "code",
      "metadata": {
        "colab": {
          "base_uri": "https://localhost:8080/",
          "height": 232
        },
        "id": "VFSQwEohvXiz",
        "outputId": "a023a256-cd61-4b33-9855-af84cc5d59d0"
      },
      "source": [
        "df.head()"
      ],
      "execution_count": null,
      "outputs": [
        {
          "output_type": "execute_result",
          "data": {
            "text/html": [
              "<div>\n",
              "<style scoped>\n",
              "    .dataframe tbody tr th:only-of-type {\n",
              "        vertical-align: middle;\n",
              "    }\n",
              "\n",
              "    .dataframe tbody tr th {\n",
              "        vertical-align: top;\n",
              "    }\n",
              "\n",
              "    .dataframe thead th {\n",
              "        text-align: right;\n",
              "    }\n",
              "</style>\n",
              "<table border=\"1\" class=\"dataframe\">\n",
              "  <thead>\n",
              "    <tr style=\"text-align: right;\">\n",
              "      <th></th>\n",
              "      <th>Unnamed: 0</th>\n",
              "      <th>userId</th>\n",
              "      <th>tier</th>\n",
              "      <th>gender</th>\n",
              "      <th>following_rate</th>\n",
              "      <th>followers_avg_age</th>\n",
              "      <th>following_avg_age</th>\n",
              "      <th>max_repetitive_punc</th>\n",
              "      <th>num_of_hashtags_per_action</th>\n",
              "      <th>emoji_count_per_action</th>\n",
              "      <th>punctuations_per_action</th>\n",
              "      <th>number_of_words_per_action</th>\n",
              "      <th>avgCompletion</th>\n",
              "      <th>avgTimeSpent</th>\n",
              "      <th>avgDuration</th>\n",
              "      <th>avgComments</th>\n",
              "      <th>creations</th>\n",
              "      <th>content_views</th>\n",
              "      <th>num_of_comments</th>\n",
              "      <th>weekends_trails_watched_per_day</th>\n",
              "      <th>weekdays_trails_watched_per_day</th>\n",
              "      <th>slot1_trails_watched_per_day</th>\n",
              "      <th>slot2_trails_watched_per_day</th>\n",
              "      <th>slot3_trails_watched_per_day</th>\n",
              "      <th>slot4_trails_watched_per_day</th>\n",
              "      <th>avgt2</th>\n",
              "      <th>age_group</th>\n",
              "    </tr>\n",
              "  </thead>\n",
              "  <tbody>\n",
              "    <tr>\n",
              "      <th>451504</th>\n",
              "      <td>471450</td>\n",
              "      <td>41339904</td>\n",
              "      <td>2</td>\n",
              "      <td>1</td>\n",
              "      <td>0.024194</td>\n",
              "      <td>3.0</td>\n",
              "      <td>3.0</td>\n",
              "      <td>0</td>\n",
              "      <td>0.0</td>\n",
              "      <td>0.0</td>\n",
              "      <td>0.0</td>\n",
              "      <td>0.3</td>\n",
              "      <td>0.245800</td>\n",
              "      <td>7.4</td>\n",
              "      <td>89.879429</td>\n",
              "      <td>0</td>\n",
              "      <td>0.016129</td>\n",
              "      <td>0.056452</td>\n",
              "      <td>0.0</td>\n",
              "      <td>0.016129</td>\n",
              "      <td>0.009677</td>\n",
              "      <td>0.000000</td>\n",
              "      <td>0.000000</td>\n",
              "      <td>0.048387</td>\n",
              "      <td>0.032258</td>\n",
              "      <td>234.000000</td>\n",
              "      <td>1</td>\n",
              "    </tr>\n",
              "    <tr>\n",
              "      <th>298241</th>\n",
              "      <td>58046</td>\n",
              "      <td>8957045</td>\n",
              "      <td>2</td>\n",
              "      <td>1</td>\n",
              "      <td>0.000000</td>\n",
              "      <td>0.0</td>\n",
              "      <td>0.0</td>\n",
              "      <td>0</td>\n",
              "      <td>0.0</td>\n",
              "      <td>0.0</td>\n",
              "      <td>0.0</td>\n",
              "      <td>0.0</td>\n",
              "      <td>0.341657</td>\n",
              "      <td>3.5</td>\n",
              "      <td>83.051415</td>\n",
              "      <td>0</td>\n",
              "      <td>0.000000</td>\n",
              "      <td>0.010753</td>\n",
              "      <td>0.0</td>\n",
              "      <td>0.003584</td>\n",
              "      <td>0.000000</td>\n",
              "      <td>0.000000</td>\n",
              "      <td>0.000000</td>\n",
              "      <td>0.007168</td>\n",
              "      <td>0.000000</td>\n",
              "      <td>0.000000</td>\n",
              "      <td>1</td>\n",
              "    </tr>\n",
              "    <tr>\n",
              "      <th>166858</th>\n",
              "      <td>376586</td>\n",
              "      <td>74483739</td>\n",
              "      <td>2</td>\n",
              "      <td>1</td>\n",
              "      <td>0.000000</td>\n",
              "      <td>0.0</td>\n",
              "      <td>0.0</td>\n",
              "      <td>0</td>\n",
              "      <td>0.0</td>\n",
              "      <td>0.0</td>\n",
              "      <td>0.0</td>\n",
              "      <td>0.0</td>\n",
              "      <td>0.366538</td>\n",
              "      <td>5.0</td>\n",
              "      <td>13.720000</td>\n",
              "      <td>0</td>\n",
              "      <td>0.000000</td>\n",
              "      <td>0.046512</td>\n",
              "      <td>0.0</td>\n",
              "      <td>0.000000</td>\n",
              "      <td>0.009302</td>\n",
              "      <td>0.046512</td>\n",
              "      <td>0.000000</td>\n",
              "      <td>0.000000</td>\n",
              "      <td>0.000000</td>\n",
              "      <td>0.000000</td>\n",
              "      <td>1</td>\n",
              "    </tr>\n",
              "    <tr>\n",
              "      <th>408656</th>\n",
              "      <td>361918</td>\n",
              "      <td>70999587</td>\n",
              "      <td>2</td>\n",
              "      <td>1</td>\n",
              "      <td>0.000000</td>\n",
              "      <td>0.0</td>\n",
              "      <td>0.0</td>\n",
              "      <td>0</td>\n",
              "      <td>0.0</td>\n",
              "      <td>0.0</td>\n",
              "      <td>0.0</td>\n",
              "      <td>0.0</td>\n",
              "      <td>0.402952</td>\n",
              "      <td>12.5</td>\n",
              "      <td>136.315818</td>\n",
              "      <td>0</td>\n",
              "      <td>0.000000</td>\n",
              "      <td>0.200000</td>\n",
              "      <td>0.0</td>\n",
              "      <td>0.127273</td>\n",
              "      <td>0.000000</td>\n",
              "      <td>0.000000</td>\n",
              "      <td>0.000000</td>\n",
              "      <td>0.254545</td>\n",
              "      <td>0.000000</td>\n",
              "      <td>0.000000</td>\n",
              "      <td>1</td>\n",
              "    </tr>\n",
              "    <tr>\n",
              "      <th>285745</th>\n",
              "      <td>85220</td>\n",
              "      <td>32712184</td>\n",
              "      <td>2</td>\n",
              "      <td>1</td>\n",
              "      <td>0.007812</td>\n",
              "      <td>2.0</td>\n",
              "      <td>2.0</td>\n",
              "      <td>0</td>\n",
              "      <td>0.0</td>\n",
              "      <td>0.0</td>\n",
              "      <td>0.0</td>\n",
              "      <td>1.0</td>\n",
              "      <td>0.206872</td>\n",
              "      <td>8.5</td>\n",
              "      <td>138.111000</td>\n",
              "      <td>0</td>\n",
              "      <td>0.015625</td>\n",
              "      <td>0.039062</td>\n",
              "      <td>0.0</td>\n",
              "      <td>0.000000</td>\n",
              "      <td>0.012500</td>\n",
              "      <td>0.000000</td>\n",
              "      <td>0.007812</td>\n",
              "      <td>0.007812</td>\n",
              "      <td>0.046875</td>\n",
              "      <td>152.571429</td>\n",
              "      <td>1</td>\n",
              "    </tr>\n",
              "  </tbody>\n",
              "</table>\n",
              "</div>"
            ],
            "text/plain": [
              "        Unnamed: 0    userId  ...       avgt2  age_group\n",
              "451504      471450  41339904  ...  234.000000          1\n",
              "298241       58046   8957045  ...    0.000000          1\n",
              "166858      376586  74483739  ...    0.000000          1\n",
              "408656      361918  70999587  ...    0.000000          1\n",
              "285745       85220  32712184  ...  152.571429          1\n",
              "\n",
              "[5 rows x 27 columns]"
            ]
          },
          "metadata": {
            "tags": []
          },
          "execution_count": 12
        }
      ]
    },
    {
      "cell_type": "code",
      "metadata": {
        "id": "k__HIZq-vaMH"
      },
      "source": [
        "# One hot encoding of some columns\n",
        "df = pd.get_dummies(df, columns=['gender','tier'], drop_first=True)\n",
        "test_df = pd.get_dummies(test_df, columns = ['gender','tier'], drop_first=True)"
      ],
      "execution_count": null,
      "outputs": []
    },
    {
      "cell_type": "code",
      "metadata": {
        "id": "O-W_Bx5bo9Kl"
      },
      "source": [
        "# Correlation with target feature\n",
        "cor = df.corr()\n",
        "\n",
        "index_li = (abs(cor.age_group).sort_values(ascending = False)[-10:]).index.to_list()"
      ],
      "execution_count": null,
      "outputs": []
    },
    {
      "cell_type": "code",
      "metadata": {
        "colab": {
          "base_uri": "https://localhost:8080/"
        },
        "id": "OzB86dDM7HOh",
        "outputId": "2ca9a456-156c-4d69-8d60-6a530ae1e587"
      },
      "source": [
        "abs(df.corr().age_group).sort_values(ascending = False)"
      ],
      "execution_count": null,
      "outputs": [
        {
          "output_type": "execute_result",
          "data": {
            "text/plain": [
              "age_group                          1.000000\n",
              "following_avg_age                  0.199376\n",
              "followers_avg_age                  0.198860\n",
              "weekdays_trails_watched_per_day    0.180997\n",
              "content_views                      0.177276\n",
              "Unnamed: 0                         0.165442\n",
              "slot4_trails_watched_per_day       0.160324\n",
              "slot3_trails_watched_per_day       0.149170\n",
              "weekends_trails_watched_per_day    0.137951\n",
              "slot2_trails_watched_per_day       0.131160\n",
              "slot1_trails_watched_per_day       0.098932\n",
              "max_repetitive_punc                0.096198\n",
              "avgt2                              0.085680\n",
              "tier_2                             0.078492\n",
              "creations                          0.071766\n",
              "avgCompletion                      0.070145\n",
              "number_of_words_per_action         0.066199\n",
              "num_of_comments                    0.045023\n",
              "userId                             0.037998\n",
              "gender_2                           0.025799\n",
              "avgComments                        0.023959\n",
              "following_rate                     0.015095\n",
              "tier_3                             0.012353\n",
              "emoji_count_per_action             0.010385\n",
              "punctuations_per_action            0.006904\n",
              "num_of_hashtags_per_action         0.003847\n",
              "avgDuration                        0.002108\n",
              "avgTimeSpent                       0.000927\n",
              "Name: age_group, dtype: float64"
            ]
          },
          "metadata": {
            "tags": []
          },
          "execution_count": 15
        }
      ]
    },
    {
      "cell_type": "code",
      "metadata": {
        "colab": {
          "base_uri": "https://localhost:8080/"
        },
        "id": "uXjLrwiwSd8C",
        "outputId": "c37237ff-5bf8-4c69-d0a3-732e75f2f8d1"
      },
      "source": [
        "index_li"
      ],
      "execution_count": null,
      "outputs": [
        {
          "output_type": "execute_result",
          "data": {
            "text/plain": [
              "['userId',\n",
              " 'gender_2',\n",
              " 'avgComments',\n",
              " 'following_rate',\n",
              " 'tier_3',\n",
              " 'emoji_count_per_action',\n",
              " 'punctuations_per_action',\n",
              " 'num_of_hashtags_per_action',\n",
              " 'avgDuration',\n",
              " 'avgTimeSpent']"
            ]
          },
          "metadata": {
            "tags": []
          },
          "execution_count": 16
        }
      ]
    },
    {
      "cell_type": "code",
      "metadata": {
        "colab": {
          "base_uri": "https://localhost:8080/"
        },
        "id": "IyDoiKbHxa1P",
        "outputId": "0499baf8-424c-43c1-bc84-563983cbe52a"
      },
      "source": [
        "df.columns.to_list()"
      ],
      "execution_count": null,
      "outputs": [
        {
          "output_type": "execute_result",
          "data": {
            "text/plain": [
              "['Unnamed: 0',\n",
              " 'userId',\n",
              " 'following_rate',\n",
              " 'followers_avg_age',\n",
              " 'following_avg_age',\n",
              " 'max_repetitive_punc',\n",
              " 'num_of_hashtags_per_action',\n",
              " 'emoji_count_per_action',\n",
              " 'punctuations_per_action',\n",
              " 'number_of_words_per_action',\n",
              " 'avgCompletion',\n",
              " 'avgTimeSpent',\n",
              " 'avgDuration',\n",
              " 'avgComments',\n",
              " 'creations',\n",
              " 'content_views',\n",
              " 'num_of_comments',\n",
              " 'weekends_trails_watched_per_day',\n",
              " 'weekdays_trails_watched_per_day',\n",
              " 'slot1_trails_watched_per_day',\n",
              " 'slot2_trails_watched_per_day',\n",
              " 'slot3_trails_watched_per_day',\n",
              " 'slot4_trails_watched_per_day',\n",
              " 'avgt2',\n",
              " 'age_group',\n",
              " 'gender_2',\n",
              " 'tier_2',\n",
              " 'tier_3']"
            ]
          },
          "metadata": {
            "tags": []
          },
          "execution_count": 17
        }
      ]
    },
    {
      "cell_type": "code",
      "metadata": {
        "colab": {
          "base_uri": "https://localhost:8080/"
        },
        "id": "A3AKm12R3lpt",
        "outputId": "22dfed5d-92a4-4f84-8824-654fb4d94c65"
      },
      "source": [
        "df.avgDuration.describe()"
      ],
      "execution_count": null,
      "outputs": [
        {
          "output_type": "execute_result",
          "data": {
            "text/plain": [
              "count    240562.000000\n",
              "mean         88.122978\n",
              "std          75.684869\n",
              "min           0.233000\n",
              "25%          38.351545\n",
              "50%          69.260424\n",
              "75%         118.687537\n",
              "max        7541.026000\n",
              "Name: avgDuration, dtype: float64"
            ]
          },
          "metadata": {
            "tags": []
          },
          "execution_count": 18
        }
      ]
    },
    {
      "cell_type": "code",
      "metadata": {
        "id": "WsTY9daT0_0t"
      },
      "source": [
        "X, y = df.drop(columns=['age_group']), df['age_group']"
      ],
      "execution_count": null,
      "outputs": []
    },
    {
      "cell_type": "markdown",
      "metadata": {
        "id": "AaA5ZU49xJu0"
      },
      "source": [
        "### PCA"
      ]
    },
    {
      "cell_type": "code",
      "metadata": {
        "colab": {
          "base_uri": "https://localhost:8080/"
        },
        "id": "xYLKYc5cxMZB",
        "outputId": "77831fdd-ce5b-4974-c305-5bf1b1ac0b0c"
      },
      "source": [
        "# PCA for diamensionality reduction\n",
        "pca = PCA(n_components= 15)\n",
        "\n",
        "pca.fit_transform(X)\n",
        "pca.transform(test_df)"
      ],
      "execution_count": null,
      "outputs": [
        {
          "output_type": "execute_result",
          "data": {
            "text/plain": [
              "array([[-4.84160057e+06,  2.24451863e+05, -5.23883790e+02, ...,\n",
              "         5.54137650e-01,  2.38555129e-02,  7.98851400e-02],\n",
              "       [-3.68536198e+07,  6.10176228e+04, -9.06961452e+02, ...,\n",
              "         4.63652161e-01,  1.61182740e-02,  2.20261503e-02],\n",
              "       [ 1.86714132e+07,  2.00121834e+04,  1.40005113e+02, ...,\n",
              "         1.76231130e-01, -5.94545370e-02,  5.19021618e-01],\n",
              "       ...,\n",
              "       [ 2.97167376e+07, -1.27461467e+05,  5.17609060e+02, ...,\n",
              "        -8.43555201e-02,  3.19755936e-01, -2.92612217e-01],\n",
              "       [ 1.30270670e+07,  3.02887118e+05, -2.90265272e+02, ...,\n",
              "        -2.37157233e-01,  1.71976530e-01, -9.21790334e-02],\n",
              "       [ 1.23131632e+07,  1.72948784e+05, -1.47170671e+02, ...,\n",
              "        -9.97170525e-01, -4.60724424e-02,  2.00121661e-02]])"
            ]
          },
          "metadata": {
            "tags": []
          },
          "execution_count": 20
        }
      ]
    },
    {
      "cell_type": "code",
      "metadata": {
        "colab": {
          "base_uri": "https://localhost:8080/"
        },
        "id": "J6pqFU8fxpHC",
        "outputId": "fdd519af-ed46-472f-eb7f-05df387d859a"
      },
      "source": [
        "pca.explained_variance_ratio_"
      ],
      "execution_count": null,
      "outputs": [
        {
          "output_type": "execute_result",
          "data": {
            "text/plain": [
              "array([9.99891977e-01, 9.02681440e-05, 1.77499996e-05, 5.09129358e-09,\n",
              "       1.32935823e-11, 3.42032341e-13, 3.79789315e-14, 3.07832571e-14,\n",
              "       6.16754958e-15, 4.02389010e-15, 1.96058113e-15, 4.60778651e-16,\n",
              "       3.99798062e-16, 3.85398673e-16, 2.93837429e-16])"
            ]
          },
          "metadata": {
            "tags": []
          },
          "execution_count": 21
        }
      ]
    },
    {
      "cell_type": "markdown",
      "metadata": {
        "id": "xxICJdH0Wbbt"
      },
      "source": [
        "###Feature Scaling\n"
      ]
    },
    {
      "cell_type": "code",
      "metadata": {
        "id": "6EcaSZJZ0jbN"
      },
      "source": [
        "#standardscaling the data before ML\n",
        "ss = StandardScaler()\n",
        "X_ss = ss.fit_transform(X)\n",
        "test_df_ss = ss.transform(test_df)\n",
        "\n",
        "X_ss = pd.DataFrame(data = X_ss, columns=X.columns)\n",
        "test_df_ss = pd.DataFrame(data = test_df_ss, columns=test_df.columns)"
      ],
      "execution_count": null,
      "outputs": []
    },
    {
      "cell_type": "markdown",
      "metadata": {
        "id": "DQHOUYWAZDQZ"
      },
      "source": [
        "###Model Implementation\n"
      ]
    },
    {
      "cell_type": "code",
      "metadata": {
        "id": "34FM-hV4Z7gu"
      },
      "source": [
        "# train-test split\n",
        "x_train,x_test,y_train,y_test = tts(X,y,test_size=0.25,random_state=42, stratify = y)"
      ],
      "execution_count": null,
      "outputs": []
    },
    {
      "cell_type": "code",
      "metadata": {
        "colab": {
          "base_uri": "https://localhost:8080/"
        },
        "id": "PebyqvIQ6ZVY",
        "outputId": "2e515fac-f026-4d1c-c96d-065f963cfb88"
      },
      "source": [
        "# Applying RandomForestClassifier\n",
        "rfc = RandomForestClassifier(n_estimators = 75, random_state=101, n_jobs= -1, min_samples_leaf=50, oob_score = True, max_features=None, criterion='gini' )\n",
        "rfc.fit(x_train,y_train)\n",
        "\n",
        "print(rfc)\n",
        "\n",
        "y_pred_train = rfc.predict(x_train)\n",
        "y_pred = rfc.predict(x_test)\n",
        "\n",
        "print(\"train:\\n\", classification_report(y_train, y_pred_train))\n",
        "print(\"test:\\n\", classification_report(y_test, y_pred))\n",
        "\n",
        "print(\"train: \", f1_score(y_train, y_pred_train, average='weighted'))\n",
        "print(\"test: \", f1_score(y_test, y_pred, average = 'weighted'))"
      ],
      "execution_count": null,
      "outputs": [
        {
          "output_type": "stream",
          "text": [
            "RandomForestClassifier(bootstrap=True, ccp_alpha=0.0, class_weight=None,\n",
            "                       criterion='gini', max_depth=None, max_features=None,\n",
            "                       max_leaf_nodes=None, max_samples=None,\n",
            "                       min_impurity_decrease=0.0, min_impurity_split=None,\n",
            "                       min_samples_leaf=50, min_samples_split=2,\n",
            "                       min_weight_fraction_leaf=0.0, n_estimators=75, n_jobs=-1,\n",
            "                       oob_score=True, random_state=101, verbose=0,\n",
            "                       warm_start=False)\n",
            "train:\n",
            "               precision    recall  f1-score   support\n",
            "\n",
            "           1       0.99      0.83      0.90     45000\n",
            "           2       0.64      0.85      0.73     44516\n",
            "           3       0.60      0.78      0.68     45303\n",
            "           4       0.80      0.43      0.56     45602\n",
            "\n",
            "    accuracy                           0.72    180421\n",
            "   macro avg       0.76      0.72      0.72    180421\n",
            "weighted avg       0.76      0.72      0.72    180421\n",
            "\n",
            "test:\n",
            "               precision    recall  f1-score   support\n",
            "\n",
            "           1       0.98      0.83      0.90     15000\n",
            "           2       0.59      0.78      0.67     14839\n",
            "           3       0.52      0.69      0.59     15101\n",
            "           4       0.74      0.38      0.50     15201\n",
            "\n",
            "    accuracy                           0.67     60141\n",
            "   macro avg       0.70      0.67      0.66     60141\n",
            "weighted avg       0.71      0.67      0.66     60141\n",
            "\n",
            "train:  0.7176746800942385\n",
            "test:  0.6629679776356975\n"
          ],
          "name": "stdout"
        }
      ]
    },
    {
      "cell_type": "code",
      "metadata": {
        "colab": {
          "base_uri": "https://localhost:8080/"
        },
        "id": "1KJo5OQX_xjx",
        "outputId": "298ce8b3-e339-4f56-9a5a-5d44e1b4c5c5"
      },
      "source": [
        "#Applying GradientBoosting Classifier\n",
        "gbc = GradientBoostingClassifier(n_estimators=100, random_state=101, max_depth=10, min_samples_split=5,learning_rate=0.5)\n",
        "\n",
        "gbc.fit(x_train,y_train)\n",
        "\n",
        "print(gbc)\n",
        "\n",
        "y_pred_train = gbc.predict(x_train)\n",
        "y_pred = gbc.predict(x_test)\n",
        "\n",
        "print(\"train:\\n\", classification_report(y_train, y_pred_train))\n",
        "print(\"test:\\n\", classification_report(y_test, y_pred))\n",
        "\n",
        "print(\"train: \", f1_score(y_train, y_pred_train, average='weighted'))\n",
        "print(\"test: \", f1_score(y_test, y_pred, average = 'weighted'))"
      ],
      "execution_count": null,
      "outputs": [
        {
          "output_type": "stream",
          "text": [
            "GradientBoostingClassifier(ccp_alpha=0.0, criterion='friedman_mse', init=None,\n",
            "                           learning_rate=0.5, loss='deviance', max_depth=10,\n",
            "                           max_features=None, max_leaf_nodes=None,\n",
            "                           min_impurity_decrease=0.0, min_impurity_split=None,\n",
            "                           min_samples_leaf=1, min_samples_split=5,\n",
            "                           min_weight_fraction_leaf=0.0, n_estimators=100,\n",
            "                           n_iter_no_change=None, presort='deprecated',\n",
            "                           random_state=101, subsample=1.0, tol=0.0001,\n",
            "                           validation_fraction=0.1, verbose=0,\n",
            "                           warm_start=False)\n",
            "train:\n",
            "               precision    recall  f1-score   support\n",
            "\n",
            "           1       1.00      0.99      1.00     45000\n",
            "           2       0.95      0.99      0.97     44516\n",
            "           3       0.95      0.98      0.96     45303\n",
            "           4       0.99      0.92      0.95     45602\n",
            "\n",
            "    accuracy                           0.97    180421\n",
            "   macro avg       0.97      0.97      0.97    180421\n",
            "weighted avg       0.97      0.97      0.97    180421\n",
            "\n",
            "test:\n",
            "               precision    recall  f1-score   support\n",
            "\n",
            "           1       0.91      0.84      0.88     15000\n",
            "           2       0.68      0.78      0.72     14839\n",
            "           3       0.57      0.65      0.61     15101\n",
            "           4       0.60      0.46      0.52     15201\n",
            "\n",
            "    accuracy                           0.68     60141\n",
            "   macro avg       0.69      0.69      0.68     60141\n",
            "weighted avg       0.69      0.68      0.68     60141\n",
            "\n",
            "train:  0.9718002739860155\n",
            "test:  0.6822667823169212\n"
          ],
          "name": "stdout"
        }
      ]
    },
    {
      "cell_type": "code",
      "metadata": {
        "colab": {
          "base_uri": "https://localhost:8080/"
        },
        "id": "V_MQZMza6Nai",
        "outputId": "3c0d3a74-618a-47b5-8242-3cbd956b1354"
      },
      "source": [
        "# Applying XGBoost classiifer\n",
        "xgb = XGBClassifier(n_estimators = 100, objective='multi:softprob', random_state=101, min_child_weight=30, scale_pos_weight=10, n_jobs=-1, reg_alpha = 1, reg_lambda=0)\n",
        "\n",
        "xgb.fit(x_train,y_train)\n",
        "\n",
        "print(xgb)\n",
        "\n",
        "y_pred_train = xgb.predict(x_train)\n",
        "y_pred = xgb.predict(x_test)\n",
        "\n",
        "print(\"train:\\n\", classification_report(y_train, y_pred_train))\n",
        "print(\"test:\\n\", classification_report(y_test, y_pred))\n",
        "\n",
        "print(\"train: \", f1_score(y_train, y_pred_train, average='weighted'))\n",
        "print(\"test: \", f1_score(y_test, y_pred, average = 'weighted'))"
      ],
      "execution_count": null,
      "outputs": [
        {
          "output_type": "stream",
          "text": [
            "XGBClassifier(base_score=0.5, booster='gbtree', colsample_bylevel=1,\n",
            "              colsample_bynode=1, colsample_bytree=1, gamma=0,\n",
            "              learning_rate=0.1, max_delta_step=0, max_depth=3,\n",
            "              min_child_weight=30, missing=None, n_estimators=100, n_jobs=-1,\n",
            "              nthread=None, objective='multi:softprob', random_state=101,\n",
            "              reg_alpha=1, reg_lambda=0, scale_pos_weight=10, seed=None,\n",
            "              silent=None, subsample=1, verbosity=1)\n",
            "train:\n",
            "               precision    recall  f1-score   support\n",
            "\n",
            "           1       1.00      0.81      0.89     45000\n",
            "           2       0.54      0.80      0.65     44516\n",
            "           3       0.54      0.62      0.58     45303\n",
            "           4       0.71      0.41      0.52     45602\n",
            "\n",
            "    accuracy                           0.66    180421\n",
            "   macro avg       0.70      0.66      0.66    180421\n",
            "weighted avg       0.70      0.66      0.66    180421\n",
            "\n",
            "test:\n",
            "               precision    recall  f1-score   support\n",
            "\n",
            "           1       1.00      0.81      0.89     15000\n",
            "           2       0.54      0.80      0.65     14839\n",
            "           3       0.53      0.62      0.57     15101\n",
            "           4       0.71      0.40      0.52     15201\n",
            "\n",
            "    accuracy                           0.66     60141\n",
            "   macro avg       0.70      0.66      0.66     60141\n",
            "weighted avg       0.70      0.66      0.66     60141\n",
            "\n",
            "train:  0.6595102849440719\n",
            "test:  0.6558923212814741\n"
          ],
          "name": "stdout"
        }
      ]
    },
    {
      "cell_type": "markdown",
      "metadata": {
        "id": "xMATdV3N6QTz"
      },
      "source": [
        "###Final Steps"
      ]
    },
    {
      "cell_type": "code",
      "metadata": {
        "id": "UmLNAAKywZJA"
      },
      "source": [
        "# Taking GradientBoostingClassifier for final prediction as it works the best\n",
        "preds = gbc.predict(test_df)\n",
        "preds = pd.DataFrame(data = preds.astype('int64'), columns=['prediction'])\n",
        "preds.to_csv('submission.csv', index=False)"
      ],
      "execution_count": null,
      "outputs": []
    }
  ]
}